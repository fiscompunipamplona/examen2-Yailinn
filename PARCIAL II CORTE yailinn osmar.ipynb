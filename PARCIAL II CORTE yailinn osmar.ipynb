{
 "cells": [
  {
   "cell_type": "markdown",
   "metadata": {},
   "source": [
    "* **Ejercicio 5.9**"
   ]
  },
  {
   "cell_type": "markdown",
   "metadata": {},
   "source": [
    "**Inciso a**"
   ]
  },
  {
   "cell_type": "code",
   "execution_count": 52,
   "metadata": {},
   "outputs": [
    {
     "name": "stdout",
     "output_type": "stream",
     "text": [
      "Ingrese el valor de la temperatura que se desea calcular: 214\n",
      "\t\n",
      "POR EL MÉTODO DE SIMPSON\n",
      "\n",
      "El valor de la capacidad calorifica es Cv =  1071.67\n"
     ]
    }
   ],
   "source": [
    "import numpy as np\n",
    "import matplotlib.pyplot as plt\n",
    "from math import*\n",
    "from numpy import*\n",
    "from pylab import *\n",
    "\n",
    "T=int(input(\"Ingrese el valor de la temperatura que se desea calcular: \"))\n",
    "V=0.001 # EL VOLUMEN DEL SOLIDO \n",
    "OD=428 #TEMPERATURA DE Debye\n",
    "N=50\n",
    "p=6.022e28 #densidad numerica\n",
    "Kb=1.3806e-23\n",
    "r=9*Kb*V*p*(T/OD)**3\n",
    "b=OD/T\n",
    "a=0\n",
    "h=(b-a)/N\n",
    "it1=0\n",
    "it2=0\n",
    "for k in range(1,(N//2)+1):\n",
    "    x1=a+(2*k-1)*h\n",
    "    y1=(x1**4)/(exp(2)-2+(1/exp(x1)))\n",
    "    it1+=y1\n",
    "for k in range(1,((N//2)-1)+1):\n",
    "    x2=a+(2*k*h)\n",
    "    y2=(x2**4)/(exp(2)-2+(1/exp(x2)))\n",
    "    it2+=y2\n",
    "I=4*it1+2*it2\n",
    "It=r*(h/3)*(((a)**4)/(exp(2)-2+(1/exp(a)))+((b)**4)/(exp(2)-2+(1/exp(b)))+I)\n",
    "print('\\t\\nPOR EL MÉTODO DE SIMPSON\\n\\nEl valor de la capacidad calorifica es Cv = ',round(It,2))\n"
   ]
  },
  {
   "cell_type": "markdown",
   "metadata": {},
   "source": [
    "**Inciso b**"
   ]
  },
  {
   "cell_type": "code",
   "execution_count": 39,
   "metadata": {},
   "outputs": [
    {
     "data": {
      "text/plain": [
       "Text(0, 0.5, 'Cv')"
      ]
     },
     "execution_count": 39,
     "metadata": {},
     "output_type": "execute_result"
    },
    {
     "data": {
      "image/png": "[encoded data removed]",
      "text/plain": [
       "<Figure size 432x288 with 1 Axes>"
      ]
     },
     "metadata": {
      "needs_background": "light"
     },
     "output_type": "display_data"
    }
   ],
   "source": [
    "T= linspace(5,500,10)\n",
    "It= [funcionx(Ti) for Ti in T]\n",
    "plot(T,It)\n",
    "xlabel('Temperatura, K')\n",
    "ylabel('Cv')"
   ]
  },
  {
   "cell_type": "markdown",
   "metadata": {},
   "source": [
    "* **Ejercicio 5.10**"
   ]
  },
  {
   "cell_type": "markdown",
   "metadata": {},
   "source": [
    "**Inciso a**"
   ]
  },
  {
   "cell_type": "markdown",
   "metadata": {},
   "source": [
    "A partir del lagrangiano $$L=\\frac{1}{2}m(\\frac{dx}{dt})^{2}-V(x)$$ La energía total del sistema es la cinética más la potencial, por tanto $$E=\\frac{1}{2}m(\\frac{dx}{dt})^{2}+V(x)$$\n",
    "Despejando $$(\\frac{dx}{dt})^{2}=\\frac{2}{m}(E-V(x))$$ Por tanto $$\\frac{dx}{dt}=\\sqrt{\\frac{2}{m}(E-V(x))}$$\n",
    "Por el método de separación de variables $$\\frac{dx}{\\sqrt{E-V(x)}}=\\sqrt{\\frac{2}{m}}dt$$ \n",
    "Integrando $$t=\\sqrt{\\frac{m}{2}}\\int\\ \\frac{dx}{\\sqrt{E-V(x)}}+cte$$\n",
    "Teniendo en cuenta que en $t=0$ se libera el oscilador del reposo en $x=a$ moviendose hacia el origen. En $t=0$,$\\frac{dx}{dt}=0$, por tanto la ecuación para la energia en términos de la amplitud es $E=V(a)$.\n",
    "Cuando se alcanza el origen por primera vez $t=\\frac{1}{4}T$, teniendo que $$\\frac{1}{4}T=\\sqrt{\\frac{m}{2}}\\int\\ \\frac{dx}{\\sqrt{V(a)-V(x)}}$$ Por tanto, la ecuación para el período será $$T=\\sqrt{8m}\\int_{0}^{a} \\frac{dx}{\\sqrt{V(a)-V(x)}}$$"
   ]
  },
  {
   "cell_type": "markdown",
   "metadata": {},
   "source": [
    "**Inciso b**"
   ]
  },
  {
   "cell_type": "code",
   "execution_count": 76,
   "metadata": {},
   "outputs": [
    {
     "name": "stdout",
     "output_type": "stream",
     "text": [
      "Ingrese el valor de la amplitud: 1\n",
      "PARA EL MÉTODO DE SIMPSON\n",
      "El valor de la integral, calculado computacionalmente, es I = 1.0960583126320307\n"
     ]
    },
    {
     "data": {
      "text/plain": [
       "Text(0, 0.5, 'Periodo T')"
      ]
     },
     "execution_count": 76,
     "metadata": {},
     "output_type": "execute_result"
    },
    {
     "data": {
      "image/png": "[encoded data removed]",
      "text/plain": [
       "<Figure size 432x288 with 1 Axes>"
      ]
     },
     "metadata": {
      "needs_background": "light"
     },
     "output_type": "display_data"
    }
   ],
   "source": [
    "N=20\n",
    "a=int(input(\"Ingrese el valor de la amplitud: \"))\n",
    "b=2\n",
    "h=(b-a)/N\n",
    "cte=sqrt(8)\n",
    "it1=0\n",
    "it2=0\n",
    "#A=[]\n",
    "#B=[0 1 2]\n",
    "for k in range(1,(N//2)+1):\n",
    "    x1=a+(2*k-1)*h\n",
    "    y1=1/sqrt(2+x1**4)\n",
    "    it1+=y1\n",
    "for k in range(1,((N//2)-1)+1):\n",
    "    x2=a+(2*k*h)\n",
    "    y2=1/sqrt(2+x2**4)\n",
    "    it2+=y2\n",
    "I=4*it1+2*it2\n",
    "It=(h/3)*cte*((1/sqrt(2+a**4)+1/sqrt(2+b**4))+I)\n",
    "print('PARA EL MÉTODO DE SIMPSON\\nEl valor de la integral, calculado computacionalmente, es I =',abs(It))\n",
    "#A.append(It)\n",
    "\n",
    "A= linspace(0,2)\n",
    "It= [funcionx(Ai) for Ai in A]\n",
    "plot(A,It,'or')\n",
    "xlabel('Amplitud')\n",
    "ylabel('Periodo T')"
   ]
  },
  {
   "cell_type": "markdown",
   "metadata": {},
   "source": [
    "**Inciso c**"
   ]
  },
  {
   "cell_type": "markdown",
   "metadata": {},
   "source": [
    "Se puede notar que a medida que la amplitud aumenta también lo hace el período, y si esta disminuye el ṕeríodo tambien disminuye, por tanto $A \\alpha T$. Se sabe que comunmente el periodo solo depende de la longitud y la masa, pero al obtenerse este por una integral, ya que de $V(x) \\alpha x^2$, se ve un relación directamente proporcional entre el período y la amplitud."
   ]
  },
  {
   "cell_type": "code",
   "execution_count": null,
   "metadata": {},
   "outputs": [],
   "source": []
  }
 ],
 "metadata": {
  "kernelspec": {
   "display_name": "Python 3",
   "language": "python",
   "name": "python3"
  },
  "language_info": {
   "codemirror_mode": {
    "name": "ipython",
    "version": 3
   },
   "file_extension": ".py",
   "mimetype": "text/x-python",
   "name": "python",
   "nbconvert_exporter": "python",
   "pygments_lexer": "ipython3",
   "version": "3.5.2"
  }
 },
 "nbformat": 4,
 "nbformat_minor": 2
}
